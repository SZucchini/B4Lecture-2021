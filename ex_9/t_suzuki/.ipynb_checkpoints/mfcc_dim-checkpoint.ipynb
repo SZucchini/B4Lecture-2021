{
 "cells": [
  {
   "cell_type": "code",
   "execution_count": 128,
   "id": "53479ede",
   "metadata": {},
   "outputs": [],
   "source": [
    "from __future__ import division\n",
    "from __future__ import print_function\n",
    "\n",
    "import argparse\n",
    "\n",
    "import librosa\n",
    "import matplotlib.pyplot as plt\n",
    "import numpy as np\n",
    "import pandas as pd\n",
    "\n",
    "from sklearn import datasets\n",
    "from sklearn.model_selection import train_test_split\n",
    "from sklearn.preprocessing import StandardScaler\n",
    "\n",
    "import torch\n",
    "import torch.nn as nn\n",
    "import torch.optim as optim\n",
    "import torch.nn.functional as F\n",
    "from torch.utils.data import TensorDataset\n",
    "from torch.utils.data import DataLoader"
   ]
  },
  {
   "cell_type": "code",
   "execution_count": 189,
   "id": "4b272c71",
   "metadata": {},
   "outputs": [],
   "source": [
    "def load(path_list):\n",
    "    load_data = (lambda path: librosa.load(path)[0])\n",
    "    data = list(map(load_data, path_list))\n",
    "    return data"
   ]
  },
  {
   "cell_type": "code",
   "execution_count": 331,
   "id": "377ba489",
   "metadata": {},
   "outputs": [],
   "source": [
    "def feature_extraction(data):\n",
    "    \"\"\"\n",
    "    wavファイルのリストから特徴抽出を行い，リストで返す\n",
    "    扱う特徴量はMFCC13次元の平均（0次は含めない）\n",
    "    Args:\n",
    "        path_list: 特徴抽出するファイルのパスリスト\n",
    "    Returns:\n",
    "        features: 特徴量\n",
    "    \"\"\"\n",
    "    features = np.array([np.mean(librosa.feature.mfcc(y=y, n_mfcc=25), axis=1) for y in data])\n",
    "\n",
    "    return features"
   ]
  },
  {
   "cell_type": "code",
   "execution_count": 332,
   "id": "2c6907f4",
   "metadata": {},
   "outputs": [],
   "source": [
    "training = pd.read_csv(\"../training.csv\")\n",
    "test = pd.read_csv(\"../test.csv\")"
   ]
  },
  {
   "cell_type": "code",
   "execution_count": 333,
   "id": "def321d9",
   "metadata": {},
   "outputs": [],
   "source": [
    "# 学習データの読み込み\n",
    "train_data = load(\"../\" + training[\"path\"].values)\n",
    "test_data = load(\"../\" + test[\"path\"].values)"
   ]
  },
  {
   "cell_type": "code",
   "execution_count": 334,
   "id": "a32a9f78",
   "metadata": {},
   "outputs": [],
   "source": [
    "# データの特徴抽出\n",
    "X_train = feature_extraction(train_data)\n",
    "X_test = feature_extraction(test_data)\n",
    "Y_train = np.array(training[\"label\"])"
   ]
  },
  {
   "cell_type": "code",
   "execution_count": 335,
   "id": "39e1d6d7",
   "metadata": {},
   "outputs": [],
   "source": [
    "# 学習データを学習データとバリデーションデータに分割 (バリデーションセットを20%とした例)\n",
    "X_train, X_valid, Y_train, Y_valid = train_test_split(\n",
    "    X_train, Y_train,\n",
    "    test_size=0.2,\n",
    "    random_state=20200616,\n",
    ")"
   ]
  },
  {
   "cell_type": "code",
   "execution_count": 336,
   "id": "9c8116c2",
   "metadata": {},
   "outputs": [],
   "source": [
    "scaler = StandardScaler()\n",
    "scaler.fit(X_train)\n",
    "\n",
    "x_train = scaler.transform(X_train)\n",
    "x_valid = scaler.transform(X_valid)\n",
    "\n",
    "x_train = torch.from_numpy(x_train).float()\n",
    "y_train = torch.from_numpy(np.array(Y_train)).long()\n",
    "x_valid = torch.from_numpy(x_valid).float()\n",
    "y_valid = torch.from_numpy(np.array(Y_valid)).long()\n",
    "\n",
    "train_dataset = TensorDataset(x_train, y_train)\n",
    "valid_dataset = TensorDataset(x_valid, y_valid)"
   ]
  },
  {
   "cell_type": "code",
   "execution_count": 337,
   "id": "d773eb8d",
   "metadata": {},
   "outputs": [],
   "source": [
    "batch_size = 16\n",
    "train_loader = DataLoader(train_dataset, batch_size=batch_size, shuffle=True)\n",
    "valid_loader = DataLoader(valid_dataset, batch_size=batch_size, shuffle=False)"
   ]
  },
  {
   "cell_type": "code",
   "execution_count": 338,
   "id": "06a21235",
   "metadata": {},
   "outputs": [],
   "source": [
    "class Net(nn.Module):    \n",
    "    def __init__(self):\n",
    "        super(Net, self).__init__()\n",
    "        self.fc1 = nn.Linear(25, 255)\n",
    "        self.fc2 = nn.Linear(255, 255)\n",
    "        # self.fc3 = nn.Linear(255, 255)\n",
    "        self.fc3 = nn.Linear(255, 10)\n",
    "        # self.dropout1 = nn.Dropout2d(0.2)\n",
    "        # self.dropout2 = nn.Dropout2d(0.2)\n",
    "        # self.dropout3 = nn.Dropout2d(0.2)\n",
    "    \n",
    "    def forward(self, x):\n",
    "        x = F.relu(self.fc1(x))\n",
    "        # x = self.dropout1(x)\n",
    "        x = F.relu(self.fc2(x))\n",
    "        # x = self.dropout2(x)\n",
    "        # x = F.relu(self.fc3(x))\n",
    "        # x = self.dropout3(x)\n",
    "        x = F.softmax(self.fc3(x), dim=1)\n",
    "        return x"
   ]
  },
  {
   "cell_type": "code",
   "execution_count": 339,
   "id": "83e9004d",
   "metadata": {},
   "outputs": [
    {
     "name": "stdout",
     "output_type": "stream",
     "text": [
      "Net(\n",
      "  (fc1): Linear(in_features=25, out_features=255, bias=True)\n",
      "  (fc2): Linear(in_features=255, out_features=255, bias=True)\n",
      "  (fc3): Linear(in_features=255, out_features=10, bias=True)\n",
      ")\n"
     ]
    }
   ],
   "source": [
    "device = 'cuda' if torch.cuda.is_available() else 'cpu'\n",
    "net = Net().to(device)\n",
    "print(net)"
   ]
  },
  {
   "cell_type": "code",
   "execution_count": 340,
   "id": "d2c373ac",
   "metadata": {},
   "outputs": [],
   "source": [
    "criterion = nn.CrossEntropyLoss()\n",
    "optimizer = optim.SGD(net.parameters(), lr=0.01)\n",
    "epochs = 200"
   ]
  },
  {
   "cell_type": "code",
   "execution_count": null,
   "id": "146b3562",
   "metadata": {},
   "outputs": [
    {
     "name": "stdout",
     "output_type": "stream",
     "text": [
      "Epoch [1/200], Loss: 0.1439, val_loss: 0.1449, val_acc: 0.1667\n",
      "Epoch [2/200], Loss: 0.1438, val_loss: 0.1448, val_acc: 0.2037\n",
      "Epoch [3/200], Loss: 0.1436, val_loss: 0.1447, val_acc: 0.2296\n",
      "Epoch [4/200], Loss: 0.1435, val_loss: 0.1446, val_acc: 0.2630\n",
      "Epoch [5/200], Loss: 0.1433, val_loss: 0.1444, val_acc: 0.2796\n",
      "Epoch [6/200], Loss: 0.1431, val_loss: 0.1442, val_acc: 0.2852\n",
      "Epoch [7/200], Loss: 0.1430, val_loss: 0.1441, val_acc: 0.2907\n",
      "Epoch [8/200], Loss: 0.1427, val_loss: 0.1438, val_acc: 0.2944\n",
      "Epoch [9/200], Loss: 0.1425, val_loss: 0.1436, val_acc: 0.3111\n",
      "Epoch [10/200], Loss: 0.1422, val_loss: 0.1433, val_acc: 0.3019\n",
      "Epoch [11/200], Loss: 0.1418, val_loss: 0.1429, val_acc: 0.2981\n",
      "Epoch [12/200], Loss: 0.1413, val_loss: 0.1424, val_acc: 0.2907\n",
      "Epoch [13/200], Loss: 0.1407, val_loss: 0.1418, val_acc: 0.2926\n",
      "Epoch [14/200], Loss: 0.1400, val_loss: 0.1411, val_acc: 0.3019\n",
      "Epoch [15/200], Loss: 0.1391, val_loss: 0.1402, val_acc: 0.3056\n",
      "Epoch [16/200], Loss: 0.1380, val_loss: 0.1390, val_acc: 0.3222\n",
      "Epoch [17/200], Loss: 0.1367, val_loss: 0.1377, val_acc: 0.3407\n",
      "Epoch [18/200], Loss: 0.1354, val_loss: 0.1365, val_acc: 0.3500\n",
      "Epoch [19/200], Loss: 0.1341, val_loss: 0.1352, val_acc: 0.3667\n",
      "Epoch [20/200], Loss: 0.1328, val_loss: 0.1341, val_acc: 0.3741\n",
      "Epoch [21/200], Loss: 0.1317, val_loss: 0.1330, val_acc: 0.3815\n",
      "Epoch [22/200], Loss: 0.1307, val_loss: 0.1320, val_acc: 0.3944\n",
      "Epoch [23/200], Loss: 0.1297, val_loss: 0.1311, val_acc: 0.4093\n",
      "Epoch [24/200], Loss: 0.1288, val_loss: 0.1302, val_acc: 0.4333\n",
      "Epoch [25/200], Loss: 0.1278, val_loss: 0.1294, val_acc: 0.4463\n",
      "Epoch [26/200], Loss: 0.1269, val_loss: 0.1285, val_acc: 0.4759\n",
      "Epoch [27/200], Loss: 0.1260, val_loss: 0.1275, val_acc: 0.5037\n",
      "Epoch [28/200], Loss: 0.1250, val_loss: 0.1266, val_acc: 0.5315\n",
      "Epoch [29/200], Loss: 0.1240, val_loss: 0.1256, val_acc: 0.5519\n",
      "Epoch [30/200], Loss: 0.1230, val_loss: 0.1246, val_acc: 0.5741\n",
      "Epoch [31/200], Loss: 0.1220, val_loss: 0.1236, val_acc: 0.5833\n",
      "Epoch [32/200], Loss: 0.1210, val_loss: 0.1226, val_acc: 0.6019\n",
      "Epoch [33/200], Loss: 0.1200, val_loss: 0.1216, val_acc: 0.6167\n",
      "Epoch [34/200], Loss: 0.1189, val_loss: 0.1205, val_acc: 0.6259\n",
      "Epoch [35/200], Loss: 0.1179, val_loss: 0.1196, val_acc: 0.6481\n",
      "Epoch [36/200], Loss: 0.1170, val_loss: 0.1187, val_acc: 0.6611\n",
      "Epoch [37/200], Loss: 0.1161, val_loss: 0.1178, val_acc: 0.6667\n",
      "Epoch [38/200], Loss: 0.1152, val_loss: 0.1170, val_acc: 0.6944\n",
      "Epoch [39/200], Loss: 0.1144, val_loss: 0.1163, val_acc: 0.6981\n",
      "Epoch [40/200], Loss: 0.1136, val_loss: 0.1156, val_acc: 0.7111\n",
      "Epoch [41/200], Loss: 0.1129, val_loss: 0.1149, val_acc: 0.7204\n",
      "Epoch [42/200], Loss: 0.1122, val_loss: 0.1143, val_acc: 0.7259\n",
      "Epoch [43/200], Loss: 0.1115, val_loss: 0.1137, val_acc: 0.7333\n",
      "Epoch [44/200], Loss: 0.1109, val_loss: 0.1131, val_acc: 0.7407\n",
      "Epoch [45/200], Loss: 0.1103, val_loss: 0.1125, val_acc: 0.7426\n",
      "Epoch [46/200], Loss: 0.1097, val_loss: 0.1120, val_acc: 0.7519\n",
      "Epoch [47/200], Loss: 0.1092, val_loss: 0.1115, val_acc: 0.7556\n",
      "Epoch [48/200], Loss: 0.1087, val_loss: 0.1110, val_acc: 0.7611\n",
      "Epoch [49/200], Loss: 0.1082, val_loss: 0.1105, val_acc: 0.7630\n",
      "Epoch [50/200], Loss: 0.1078, val_loss: 0.1100, val_acc: 0.7722\n",
      "Epoch [51/200], Loss: 0.1073, val_loss: 0.1095, val_acc: 0.7833\n",
      "Epoch [52/200], Loss: 0.1069, val_loss: 0.1090, val_acc: 0.7963\n",
      "Epoch [53/200], Loss: 0.1063, val_loss: 0.1083, val_acc: 0.8167\n",
      "Epoch [54/200], Loss: 0.1057, val_loss: 0.1076, val_acc: 0.8278\n",
      "Epoch [55/200], Loss: 0.1052, val_loss: 0.1070, val_acc: 0.8463\n",
      "Epoch [56/200], Loss: 0.1047, val_loss: 0.1065, val_acc: 0.8593\n",
      "Epoch [57/200], Loss: 0.1042, val_loss: 0.1060, val_acc: 0.8611\n",
      "Epoch [58/200], Loss: 0.1038, val_loss: 0.1055, val_acc: 0.8796\n",
      "Epoch [59/200], Loss: 0.1034, val_loss: 0.1050, val_acc: 0.8778\n",
      "Epoch [60/200], Loss: 0.1030, val_loss: 0.1046, val_acc: 0.8815\n",
      "Epoch [61/200], Loss: 0.1026, val_loss: 0.1042, val_acc: 0.8907\n",
      "Epoch [62/200], Loss: 0.1022, val_loss: 0.1038, val_acc: 0.9000\n",
      "Epoch [63/200], Loss: 0.1018, val_loss: 0.1034, val_acc: 0.9037\n",
      "Epoch [64/200], Loss: 0.1015, val_loss: 0.1031, val_acc: 0.9037\n",
      "Epoch [65/200], Loss: 0.1011, val_loss: 0.1026, val_acc: 0.9130\n",
      "Epoch [66/200], Loss: 0.1008, val_loss: 0.1023, val_acc: 0.9148\n",
      "Epoch [67/200], Loss: 0.1005, val_loss: 0.1020, val_acc: 0.9130\n",
      "Epoch [68/200], Loss: 0.1002, val_loss: 0.1016, val_acc: 0.9148\n",
      "Epoch [69/200], Loss: 0.0999, val_loss: 0.1014, val_acc: 0.9185\n",
      "Epoch [70/200], Loss: 0.0997, val_loss: 0.1011, val_acc: 0.9241\n",
      "Epoch [71/200], Loss: 0.0994, val_loss: 0.1008, val_acc: 0.9241\n",
      "Epoch [72/200], Loss: 0.0992, val_loss: 0.1005, val_acc: 0.9259\n",
      "Epoch [73/200], Loss: 0.0990, val_loss: 0.1003, val_acc: 0.9315\n",
      "Epoch [74/200], Loss: 0.0987, val_loss: 0.1001, val_acc: 0.9389\n",
      "Epoch [75/200], Loss: 0.0986, val_loss: 0.0998, val_acc: 0.9370\n",
      "Epoch [76/200], Loss: 0.0984, val_loss: 0.0996, val_acc: 0.9407\n",
      "Epoch [77/200], Loss: 0.0982, val_loss: 0.0994, val_acc: 0.9407\n",
      "Epoch [78/200], Loss: 0.0980, val_loss: 0.0992, val_acc: 0.9407\n",
      "Epoch [79/200], Loss: 0.0979, val_loss: 0.0991, val_acc: 0.9426\n",
      "Epoch [80/200], Loss: 0.0977, val_loss: 0.0989, val_acc: 0.9426\n",
      "Epoch [81/200], Loss: 0.0975, val_loss: 0.0988, val_acc: 0.9444\n",
      "Epoch [82/200], Loss: 0.0974, val_loss: 0.0986, val_acc: 0.9463\n",
      "Epoch [83/200], Loss: 0.0973, val_loss: 0.0985, val_acc: 0.9463\n",
      "Epoch [84/200], Loss: 0.0972, val_loss: 0.0983, val_acc: 0.9519\n",
      "Epoch [85/200], Loss: 0.0970, val_loss: 0.0982, val_acc: 0.9519\n",
      "Epoch [86/200], Loss: 0.0969, val_loss: 0.0981, val_acc: 0.9519\n",
      "Epoch [87/200], Loss: 0.0968, val_loss: 0.0979, val_acc: 0.9519\n",
      "Epoch [88/200], Loss: 0.0967, val_loss: 0.0978, val_acc: 0.9519\n",
      "Epoch [89/200], Loss: 0.0966, val_loss: 0.0977, val_acc: 0.9537\n",
      "Epoch [90/200], Loss: 0.0965, val_loss: 0.0976, val_acc: 0.9556\n",
      "Epoch [91/200], Loss: 0.0964, val_loss: 0.0976, val_acc: 0.9574\n",
      "Epoch [92/200], Loss: 0.0963, val_loss: 0.0975, val_acc: 0.9537\n",
      "Epoch [93/200], Loss: 0.0962, val_loss: 0.0974, val_acc: 0.9556\n",
      "Epoch [94/200], Loss: 0.0961, val_loss: 0.0973, val_acc: 0.9574\n",
      "Epoch [95/200], Loss: 0.0961, val_loss: 0.0972, val_acc: 0.9574\n",
      "Epoch [96/200], Loss: 0.0960, val_loss: 0.0971, val_acc: 0.9574\n",
      "Epoch [97/200], Loss: 0.0959, val_loss: 0.0970, val_acc: 0.9574\n",
      "Epoch [98/200], Loss: 0.0958, val_loss: 0.0970, val_acc: 0.9593\n",
      "Epoch [99/200], Loss: 0.0958, val_loss: 0.0969, val_acc: 0.9593\n",
      "Epoch [100/200], Loss: 0.0957, val_loss: 0.0968, val_acc: 0.9574\n",
      "Epoch [101/200], Loss: 0.0956, val_loss: 0.0967, val_acc: 0.9593\n",
      "Epoch [102/200], Loss: 0.0956, val_loss: 0.0967, val_acc: 0.9574\n",
      "Epoch [103/200], Loss: 0.0955, val_loss: 0.0967, val_acc: 0.9593\n",
      "Epoch [104/200], Loss: 0.0954, val_loss: 0.0966, val_acc: 0.9574\n",
      "Epoch [105/200], Loss: 0.0954, val_loss: 0.0965, val_acc: 0.9593\n",
      "Epoch [106/200], Loss: 0.0953, val_loss: 0.0965, val_acc: 0.9611\n",
      "Epoch [107/200], Loss: 0.0953, val_loss: 0.0964, val_acc: 0.9611\n",
      "Epoch [108/200], Loss: 0.0952, val_loss: 0.0964, val_acc: 0.9648\n",
      "Epoch [109/200], Loss: 0.0952, val_loss: 0.0963, val_acc: 0.9648\n",
      "Epoch [110/200], Loss: 0.0951, val_loss: 0.0963, val_acc: 0.9648\n",
      "Epoch [111/200], Loss: 0.0951, val_loss: 0.0963, val_acc: 0.9630\n",
      "Epoch [112/200], Loss: 0.0950, val_loss: 0.0962, val_acc: 0.9630\n",
      "Epoch [113/200], Loss: 0.0950, val_loss: 0.0962, val_acc: 0.9648\n",
      "Epoch [114/200], Loss: 0.0949, val_loss: 0.0961, val_acc: 0.9667\n",
      "Epoch [115/200], Loss: 0.0949, val_loss: 0.0961, val_acc: 0.9648\n",
      "Epoch [116/200], Loss: 0.0948, val_loss: 0.0961, val_acc: 0.9630\n",
      "Epoch [117/200], Loss: 0.0948, val_loss: 0.0961, val_acc: 0.9648\n",
      "Epoch [118/200], Loss: 0.0948, val_loss: 0.0960, val_acc: 0.9648\n",
      "Epoch [119/200], Loss: 0.0947, val_loss: 0.0960, val_acc: 0.9648\n"
     ]
    }
   ],
   "source": [
    "train_loss_list, train_acc_list, val_loss_list, val_acc_list = [], [], [], []\n",
    " \n",
    "for epoch in range(epochs):\n",
    "    train_loss, train_acc, val_loss, val_acc = 0, 0, 0, 0\n",
    "    \n",
    "    net.train()\n",
    "    for i, (inputs, labels) in enumerate(train_loader):\n",
    "        inputs, labels = inputs.to(device), labels.to(device)\n",
    "        optimizer.zero_grad()\n",
    "        outputs = net(inputs)\n",
    "        loss = criterion(outputs, labels)\n",
    "        train_loss += loss.item()\n",
    "        acc = (outputs.max(1)[1] == labels).sum()\n",
    "        train_acc += acc.item()\n",
    "        loss.backward()      \n",
    "        optimizer.step()\n",
    "        avg_train_loss = train_loss / len(train_loader.dataset)\n",
    "        avg_train_acc = train_acc / len(train_loader.dataset)\n",
    "    \n",
    "    net.eval()\n",
    "    with torch.no_grad():\n",
    "      for inputs, labels in valid_loader:        \n",
    "          inputs, labels = inputs.to(device), labels.to(device)\n",
    "          outputs = net(inputs)\n",
    "          loss = criterion(outputs, labels)\n",
    "          val_loss += loss.item()\n",
    "          acc = (outputs.max(1)[1] == labels).sum()\n",
    "          val_acc += acc.item()\n",
    "    avg_val_loss = val_loss / len(valid_loader.dataset)\n",
    "    avg_val_acc = val_acc / len(valid_loader.dataset)\n",
    "    \n",
    "    print ('Epoch [{}/{}], Loss: {loss:.4f}, val_loss: {val_loss:.4f}, val_acc: {val_acc:.4f}' \n",
    "                   .format(epoch+1, epochs, i+1, loss=avg_train_loss, val_loss=avg_val_loss, val_acc=avg_val_acc))\n",
    " \n",
    "    train_loss_list.append(avg_train_loss)\n",
    "    train_acc_list.append(avg_train_acc)\n",
    "    val_loss_list.append(avg_val_loss)\n",
    "    val_acc_list.append(avg_val_acc)"
   ]
  },
  {
   "cell_type": "code",
   "execution_count": 311,
   "id": "6f5779a5",
   "metadata": {},
   "outputs": [
    {
     "data": {
      "text/plain": [
       "[<matplotlib.lines.Line2D at 0x2ef1ca340>]"
      ]
     },
     "execution_count": 311,
     "metadata": {},
     "output_type": "execute_result"
    },
    {
     "data": {
      "image/png": "[encoded data removed]",
      "text/plain": [
       "<Figure size 432x288 with 1 Axes>"
      ]
     },
     "metadata": {
      "needs_background": "light"
     },
     "output_type": "display_data"
    }
   ],
   "source": [
    "x = [i for i in range(1, 201)]\n",
    "plt.plot(x, train_acc_list)\n",
    "plt.plot(x, val_acc_list)"
   ]
  },
  {
   "cell_type": "code",
   "execution_count": 312,
   "id": "c0fe1091",
   "metadata": {},
   "outputs": [
    {
     "data": {
      "text/plain": [
       "[<matplotlib.lines.Line2D at 0x2ef22b130>]"
      ]
     },
     "execution_count": 312,
     "metadata": {},
     "output_type": "execute_result"
    },
    {
     "data": {
      "image/png": "[encoded data removed]",
      "text/plain": [
       "<Figure size 432x288 with 1 Axes>"
      ]
     },
     "metadata": {
      "needs_background": "light"
     },
     "output_type": "display_data"
    }
   ],
   "source": [
    "plt.plot(x, train_loss_list)\n",
    "plt.plot(x, val_loss_list)"
   ]
  },
  {
   "cell_type": "code",
   "execution_count": null,
   "id": "8cfeaeda",
   "metadata": {},
   "outputs": [],
   "source": []
  }
 ],
 "metadata": {
  "kernelspec": {
   "display_name": "Python 3",
   "language": "python",
   "name": "python3"
  },
  "language_info": {
   "codemirror_mode": {
    "name": "ipython",
    "version": 3
   },
   "file_extension": ".py",
   "mimetype": "text/x-python",
   "name": "python",
   "nbconvert_exporter": "python",
   "pygments_lexer": "ipython3",
   "version": "3.8.10"
  }
 },
 "nbformat": 4,
 "nbformat_minor": 5
}
