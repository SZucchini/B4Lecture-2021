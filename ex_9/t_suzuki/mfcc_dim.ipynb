{
 "cells": [
  {
   "cell_type": "code",
   "execution_count": 1,
   "id": "53479ede",
   "metadata": {},
   "outputs": [],
   "source": [
    "from __future__ import division\n",
    "from __future__ import print_function\n",
    "\n",
    "import argparse\n",
    "\n",
    "import librosa\n",
    "import matplotlib.pyplot as plt\n",
    "import numpy as np\n",
    "import pandas as pd\n",
    "\n",
    "from sklearn import datasets\n",
    "from sklearn.model_selection import train_test_split\n",
    "from sklearn.preprocessing import StandardScaler\n",
    "\n",
    "import torch\n",
    "import torch.nn as nn\n",
    "import torch.optim as optim\n",
    "import torch.nn.functional as F\n",
    "from torch.utils.data import TensorDataset\n",
    "from torch.utils.data import DataLoader"
   ]
  },
  {
   "cell_type": "code",
   "execution_count": 2,
   "id": "4b272c71",
   "metadata": {},
   "outputs": [],
   "source": [
    "def load(path_list):\n",
    "    load_data = (lambda path: librosa.load(path)[0])\n",
    "    data = list(map(load_data, path_list))\n",
    "    return data"
   ]
  },
  {
   "cell_type": "code",
   "execution_count": 7,
   "id": "377ba489",
   "metadata": {},
   "outputs": [],
   "source": [
    "def feature_extraction(data, dim):\n",
    "    \"\"\"\n",
    "    wavファイルのリストから特徴抽出を行い，リストで返す\n",
    "    扱う特徴量はMFCC13次元の平均（0次は含めない）\n",
    "    Args:\n",
    "        path_list: 特徴抽出するファイルのパスリスト\n",
    "    Returns:\n",
    "        features: 特徴量\n",
    "    \"\"\"\n",
    "    features = np.array([np.mean(librosa.feature.mfcc(y=y, n_mfcc=dim), axis=1) for y in data])\n",
    "\n",
    "    return features"
   ]
  },
  {
   "cell_type": "code",
   "execution_count": 4,
   "id": "2c6907f4",
   "metadata": {},
   "outputs": [],
   "source": [
    "training = pd.read_csv(\"../training.csv\")\n",
    "test = pd.read_csv(\"../test.csv\")"
   ]
  },
  {
   "cell_type": "code",
   "execution_count": 5,
   "id": "def321d9",
   "metadata": {},
   "outputs": [],
   "source": [
    "# 学習データの読み込み\n",
    "train_data = load(\"../\" + training[\"path\"].values)\n",
    "test_data = load(\"../\" + test[\"path\"].values)"
   ]
  },
  {
   "cell_type": "code",
   "execution_count": 10,
   "id": "67e942c4",
   "metadata": {},
   "outputs": [
    {
     "name": "stdout",
     "output_type": "stream",
     "text": [
      "dim = 12\n",
      "0.8351851851851851\n",
      "dim = 13\n",
      "0.8\n",
      "dim = 14\n",
      "0.8796296296296297\n",
      "dim = 15\n",
      "0.8759259259259259\n",
      "dim = 16\n",
      "0.912962962962963\n",
      "dim = 17\n",
      "0.9111111111111111\n",
      "dim = 18\n",
      "0.9333333333333333\n",
      "dim = 19\n",
      "0.9481481481481482\n",
      "dim = 20\n",
      "0.9425925925925925\n",
      "dim = 21\n",
      "0.9462962962962963\n",
      "dim = 22\n",
      "0.9351851851851852\n",
      "dim = 23\n",
      "0.9481481481481482\n",
      "dim = 24\n",
      "0.9462962962962963\n"
     ]
    }
   ],
   "source": [
    "dim_acc = []\n",
    "for d in range(12, 25):\n",
    "    print(f\"dim = {d}\")\n",
    "    X_train = feature_extraction(train_data, d)\n",
    "    X_test = feature_extraction(test_data, d)\n",
    "    Y_train = np.array(training[\"label\"])\n",
    "    \n",
    "    # 学習データを学習データとバリデーションデータに分割 (バリデーションセットを20%とした例)\n",
    "    X_train, X_valid, Y_train, Y_valid = train_test_split(\n",
    "        X_train, Y_train,\n",
    "        test_size=0.2,\n",
    "        random_state=20200616,\n",
    "    )\n",
    "    \n",
    "    scaler = StandardScaler()\n",
    "    scaler.fit(X_train)\n",
    "\n",
    "    x_train = scaler.transform(X_train)\n",
    "    x_valid = scaler.transform(X_valid)\n",
    "\n",
    "    x_train = torch.from_numpy(x_train).float()\n",
    "    y_train = torch.from_numpy(np.array(Y_train)).long()\n",
    "    x_valid = torch.from_numpy(x_valid).float()\n",
    "    y_valid = torch.from_numpy(np.array(Y_valid)).long()\n",
    "\n",
    "    train_dataset = TensorDataset(x_train, y_train)\n",
    "    valid_dataset = TensorDataset(x_valid, y_valid)\n",
    "    \n",
    "    batch_size = 16\n",
    "    train_loader = DataLoader(train_dataset, batch_size=batch_size, shuffle=True)\n",
    "    valid_loader = DataLoader(valid_dataset, batch_size=batch_size, shuffle=False)\n",
    "    \n",
    "    class Net(nn.Module):    \n",
    "        def __init__(self):\n",
    "            super(Net, self).__init__()\n",
    "            self.fc1 = nn.Linear(d, 255)\n",
    "            self.fc2 = nn.Linear(255, 255)\n",
    "            # self.fc3 = nn.Linear(255, 255)\n",
    "            self.fc3 = nn.Linear(255, 10)\n",
    "            # self.dropout1 = nn.Dropout2d(0.2)\n",
    "            # self.dropout2 = nn.Dropout2d(0.2)\n",
    "            # self.dropout3 = nn.Dropout2d(0.2)\n",
    "\n",
    "        def forward(self, x):\n",
    "            x = F.relu(self.fc1(x))\n",
    "            # x = self.dropout1(x)\n",
    "            x = F.relu(self.fc2(x))\n",
    "            # x = self.dropout2(x)\n",
    "            # x = F.relu(self.fc3(x))\n",
    "            # x = self.dropout3(x)\n",
    "            x = F.softmax(self.fc3(x), dim=1)\n",
    "            return x\n",
    "        \n",
    "    device = 'cuda' if torch.cuda.is_available() else 'cpu'\n",
    "    net = Net().to(device)\n",
    "    \n",
    "    criterion = nn.CrossEntropyLoss()\n",
    "    optimizer = optim.SGD(net.parameters(), lr=0.01)\n",
    "    epochs = 100\n",
    "    \n",
    "    train_loss_list, train_acc_list, val_loss_list, val_acc_list = [], [], [], []\n",
    " \n",
    "    for epoch in range(epochs):\n",
    "        train_loss, train_acc, val_loss, val_acc = 0, 0, 0, 0\n",
    "\n",
    "        net.train()\n",
    "        for i, (inputs, labels) in enumerate(train_loader):\n",
    "            inputs, labels = inputs.to(device), labels.to(device)\n",
    "            optimizer.zero_grad()\n",
    "            outputs = net(inputs)\n",
    "            loss = criterion(outputs, labels)\n",
    "            train_loss += loss.item()\n",
    "            acc = (outputs.max(1)[1] == labels).sum()\n",
    "            train_acc += acc.item()\n",
    "            loss.backward()      \n",
    "            optimizer.step()\n",
    "            avg_train_loss = train_loss / len(train_loader.dataset)\n",
    "            avg_train_acc = train_acc / len(train_loader.dataset)\n",
    "\n",
    "        net.eval()\n",
    "        with torch.no_grad():\n",
    "          for inputs, labels in valid_loader:        \n",
    "              inputs, labels = inputs.to(device), labels.to(device)\n",
    "              outputs = net(inputs)\n",
    "              loss = criterion(outputs, labels)\n",
    "              val_loss += loss.item()\n",
    "              acc = (outputs.max(1)[1] == labels).sum()\n",
    "              val_acc += acc.item()\n",
    "        avg_val_loss = val_loss / len(valid_loader.dataset)\n",
    "        avg_val_acc = val_acc / len(valid_loader.dataset)\n",
    "        \n",
    "        #print ('Epoch [{}/{}], Loss: {loss:.4f}, val_loss: {val_loss:.4f}, val_acc: {val_acc:.4f}' \n",
    "                   #.format(epoch+1, epochs, i+1, loss=avg_train_loss, val_loss=avg_val_loss, val_acc=avg_val_acc))\n",
    " \n",
    "        train_loss_list.append(avg_train_loss)\n",
    "        train_acc_list.append(avg_train_acc)\n",
    "        val_loss_list.append(avg_val_loss)\n",
    "        val_acc_list.append(avg_val_acc)\n",
    "        \n",
    "    print(val_acc_list[-1])\n",
    "    dim_acc.append(val_acc_list[-1])"
   ]
  },
  {
   "cell_type": "code",
   "execution_count": 13,
   "id": "8cfeaeda",
   "metadata": {},
   "outputs": [
    {
     "data": {
      "text/plain": [
       "<matplotlib.collections.PathCollection at 0x280ebe880>"
      ]
     },
     "execution_count": 13,
     "metadata": {},
     "output_type": "execute_result"
    },
    {
     "data": {
      "image/png": "[encoded data removed]",
      "text/plain": [
       "<Figure size 432x288 with 1 Axes>"
      ]
     },
     "metadata": {
      "needs_background": "light"
     },
     "output_type": "display_data"
    }
   ],
   "source": [
    "plt.scatter([i for i in range(12, 25)], dim_acc)"
   ]
  },
  {
   "cell_type": "code",
   "execution_count": null,
   "id": "a07c013d",
   "metadata": {},
   "outputs": [],
   "source": []
  }
 ],
 "metadata": {
  "kernelspec": {
   "display_name": "Python 3",
   "language": "python",
   "name": "python3"
  },
  "language_info": {
   "codemirror_mode": {
    "name": "ipython",
    "version": 3
   },
   "file_extension": ".py",
   "mimetype": "text/x-python",
   "name": "python",
   "nbconvert_exporter": "python",
   "pygments_lexer": "ipython3",
   "version": "3.8.10"
  }
 },
 "nbformat": 4,
 "nbformat_minor": 5
}
